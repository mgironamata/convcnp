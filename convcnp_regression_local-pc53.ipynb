{
 "cells": [
  {
   "cell_type": "markdown",
   "metadata": {
    "colab_type": "text",
    "id": "DWJXd8T78uHQ"
   },
   "source": [
    "# Implementing and Training Convolutional Conditional Neural Processes\n",
    "\n",
    "The ConvCNP ([Convolutional Conditional Neural Process](https://openreview.net/forum?id=Skey4eBYPS)) is a recently introduced member of the neural process family that leverages translation equivariance as an inductive bias when performing inference on sets. This repository contains the  necessary classes and scripts to reproduce the 1d Gaussian process experiments from the ICLR paper. \n",
    "\n",
    "In this notebook, we will take a more illustrative look at how the ConvCNP is implemented, trained, and performs on this toy data. Let us begin by importing the necessary packages, as well as pieces from the current repo. "
   ]
  },
  {
   "cell_type": "code",
   "execution_count": 2,
   "metadata": {
    "colab": {
     "base_uri": "https://localhost:8080/",
     "height": 51
    },
    "colab_type": "code",
    "executionInfo": {
     "elapsed": 1222,
     "status": "ok",
     "timestamp": 1588078527368,
     "user": {
      "displayName": "M. Girona-Mata",
      "photoUrl": "",
      "userId": "05153816392464611766"
     },
     "user_tz": -60
    },
    "id": "oZdCxl_-8w_t",
    "outputId": "81f912ba-b47a-4565-cdf2-5af69e767027"
   },
   "outputs": [
    {
     "data": {
      "text/plain": [
       "'C:\\\\Users\\\\marcg\\\\Google Drive\\\\MResProject\\\\convcnp\\\\convcnp'"
      ]
     },
     "execution_count": 2,
     "metadata": {},
     "output_type": "execute_result"
    }
   ],
   "source": [
    "import os \n",
    "#%cd convcnp\n",
    "os.getcwd()"
   ]
  },
  {
   "cell_type": "code",
   "execution_count": 3,
   "metadata": {
    "colab": {
     "base_uri": "https://localhost:8080/",
     "height": 311
    },
    "colab_type": "code",
    "executionInfo": {
     "elapsed": 5273,
     "status": "ok",
     "timestamp": 1588078531443,
     "user": {
      "displayName": "M. Girona-Mata",
      "photoUrl": "",
      "userId": "05153816392464611766"
     },
     "user_tz": -60
    },
    "id": "_7MkRe_m9Ppf",
    "outputId": "d4564024-cac8-4c74-f532-703c8ce2881c"
   },
   "outputs": [],
   "source": [
    "#os.chdir('c:\\\\Users\\\\marcg\\\\Google Drive\\\\MResProject')\n",
    "#!pip install -r requirements.txt"
   ]
  },
  {
   "cell_type": "code",
   "execution_count": 4,
   "metadata": {},
   "outputs": [],
   "source": [
    "#!pip3 install pytorch torchvision cudatoolkit"
   ]
  },
  {
   "cell_type": "code",
   "execution_count": 5,
   "metadata": {
    "colab": {},
    "colab_type": "code",
    "id": "_RgZgmbk8uHT",
    "scrolled": true
   },
   "outputs": [
    {
     "name": "stdout",
     "output_type": "stream",
     "text": [
      "cuda\n"
     ]
    }
   ],
   "source": [
    "import numpy as np\n",
    "import matplotlib.pyplot as plt\n",
    "\n",
    "import pandas as pd\n",
    "\n",
    "import torch\n",
    "import torch.nn as nn\n",
    "#import stheno.torch as stheno\n",
    "\n",
    "#import convcnp.data\n",
    "import convcnp.data_hydro_2\n",
    "\n",
    "from convcnp.experiment import report_loss, RunningAverage\n",
    "from convcnp.utils import gaussian_logpdf, init_sequential_weights, to_multiple\n",
    "from convcnp.architectures import SimpleConv, UNet\n",
    "\n",
    "device = torch.device('cuda' if torch.cuda.is_available() else 'cpu')\n",
    "print(device)\n",
    "\n",
    "def to_numpy(x):\n",
    "    \"\"\"Convert a PyTorch tensor to NumPy.\"\"\"\n",
    "    return x.squeeze().detach().cpu().numpy()"
   ]
  },
  {
   "cell_type": "code",
   "execution_count": 6,
   "metadata": {},
   "outputs": [
    {
     "name": "stdout",
     "output_type": "stream",
     "text": [
      "Wall time: 472 ms\n"
     ]
    }
   ],
   "source": [
    "%%time\n",
    "\n",
    "import time\n",
    "import datetime\n",
    "\n",
    "filepath = r'../../data/camels/basin_timeseries_v1p2_modelOutput_maurer/model_output_maurer/model_output/flow_timeseries/maurer/01/01013500_05_model_output.txt'\n",
    "df = pd.read_table(filepath, sep=\"\\s+\")\n",
    "\n",
    "def date_to_int(row):\n",
    "    return int(time.mktime(datetime.datetime(year=int(row['YR']), month=int(row['MNTH']), day=int(row['DY'])).timetuple())/86400)\n",
    "\n",
    "df['idx'] = df.apply(date_to_int,axis=1)"
   ]
  },
  {
   "cell_type": "markdown",
   "metadata": {
    "colab_type": "text",
    "id": "dewWREGN8uHY"
   },
   "source": [
    "## Data Generation\n",
    "\n",
    "As other members of the NP family, ConvCNP learns from a large collection of related tasks, where each training task contains a _context set_ and a _target set_. The context set is used to infer the predictive function, which is evaluated on the target set. In this experiment we will use a Gaussian process to sample a function, from which we will sub-sample (distinct) context and target sets. \n",
    "\n",
    "In this repository, we use [Stheno](https://github.com/wesselb/stheno) to handle GPs. Our generator class (found in [convnp.data](https://github.com/cambridge-mlg/convcnp/blob/master/convcnp/data.py)) handles the data generation process for us! All we need to do is create a Stheno kernel and pass it to the generator (other arguments like batch size and number of tasks per \"epoch\" can also be controlled).\n",
    "\n",
    "Let us define such a generator, and plot a few tasks to see what these look like."
   ]
  },
  {
   "cell_type": "code",
   "execution_count": 7,
   "metadata": {},
   "outputs": [],
   "source": [
    "import pdb"
   ]
  },
  {
   "cell_type": "code",
   "execution_count": 8,
   "metadata": {
    "colab": {
     "base_uri": "https://localhost:8080/",
     "height": 391
    },
    "colab_type": "code",
    "executionInfo": {
     "elapsed": 22584,
     "status": "ok",
     "timestamp": 1588078548797,
     "user": {
      "displayName": "M. Girona-Mata",
      "photoUrl": "",
      "userId": "05153816392464611766"
     },
     "user_tz": -60
    },
    "id": "E4sS9Ood8uHZ",
    "outputId": "e5365e51-135f-4fb1-feb2-3b55462d73bf"
   },
   "outputs": [
    {
     "data": {
      "image/png": "[encoded data removed]",
      "text/plain": [
       "<Figure size 1728x360 with 3 Axes>"
      ]
     },
     "metadata": {
      "needs_background": "light"
     },
     "output_type": "display_data"
    }
   ],
   "source": [
    "#kernel = stheno.Matern52().stretch(0.25)\n",
    "#gen = convcnp.data.GPGenerator(kernel=kernel)\n",
    "gen = convcnp.data_hydro_2.HydroGenerator(s_year=2000,s_month=6,s_day=1,e_year=2000,e_month=6,e_day=30,dataframe=df)\n",
    "#gen = convcnp.data_hydro.SawtoothGenerator(_\n",
    "\n",
    "#x_test = np.linspace(2000*365 + 30*6 + 1, 2000*365 + 30*6 + 30, 300)\n",
    "x_test = np.vstack([np.linspace(0,1,30),np.linspace(0,2,30)])\n",
    "#x_test = np.linspace(-2,2,300)\n",
    "#gp = stheno.GP(kernel)\n",
    "\n",
    "def plot_task(task, idx, legend):\n",
    "    #x_context, y_context = to_numpy(task['x_context'][idx]), to_numpy(task['y_context'][idx])\n",
    "    #x_target, y_target = to_numpy(task['x_target'][idx]), to_numpy(task['y_target'][idx])\n",
    "    x_context, y_context = to_numpy(task['x_context'][idx][:,0]), to_numpy(task['y_context'][idx])\n",
    "    x_target, y_target = to_numpy(task['x_target'][idx][:,0]), to_numpy(task['y_target'][idx])\n",
    "      \n",
    "    # Plot context and target sets.\n",
    "    plt.scatter(x_context, y_context, label='Context Set', color='black')\n",
    "    plt.scatter(x_target, y_target, label = 'Target Set', color='blue')\n",
    "    \n",
    "    # Infer GP posterior.\n",
    "    #post = gp  | (x_context, y_context)\n",
    "    \n",
    "    # Make and plot predictions on desired range.\n",
    "    #gp_mean, gp_lower, gp_upper = post(x_test).marginals()\n",
    "    #plt.plot(x_test, gp_mean, color='tab:green', label='Oracle GP')\n",
    "    #plt.fill_between(x_test, gp_lower, gp_upper, color='tab:green', alpha=0.1)\n",
    "    if legend:\n",
    "        plt.legend()\n",
    "\n",
    "task = gen.generate_task()\n",
    "\n",
    "fig = plt.figure(figsize=(24, 5))\n",
    "for i in range(3):\n",
    "    plt.subplot(1, 3, i + 1)\n",
    "    plot_task(task, i, legend=i==2)\n",
    "plt.show()"
   ]
  },
  {
   "cell_type": "code",
   "execution_count": null,
   "metadata": {},
   "outputs": [],
   "source": []
  },
  {
   "cell_type": "markdown",
   "metadata": {
    "colab_type": "text",
    "id": "iclRb0kP8uHe"
   },
   "source": [
    "In the above plots, the black points are the observed context set, and the green curve is the predictive function for the posterior Gaussian process (conditioned on the context set), with the _true_ GP kernel.\n",
    "\n",
    "Next, let's define the core building blocks for the ConvCNP model! \n",
    "\n",
    "# Encoder\n",
    "\n",
    "The encoder for our model will be a `ConvDeepSet` layer. This layer takes as input a set, and embeds it into a function space. The layer will also provide a discretization of the functional representation for the decoder. Further, for convenience, we add an additional, point-wise linear transformation to the functional representation to provide the decoder with the appropriate number of channels. In the module, this is called `self.g`, which is implemented as a simple linear layer, and applied after the discretization. \n",
    "\n",
    "In this implementation, we use a RBF kernel with a learned length-scale as the $\\psi$ function, which takes as input the distance between two input locations, and returns a scalar. Note that $\\psi$ can be any differentiable function of this form, e.g., implemented as an MLP. The method `self.rbf` implements $\\psi$ in this example. The helper function `compute_dists` computes the pair-wise distances between vectors of input locations.\n",
    "\n",
    "The forward method for this module accepts as inputs a context set -- $x$ and $y$ -- each of which is an order 3 tensor (batch size, num context points, `dim(x) / dim(y)`), and an additional order 3 tensor of locations ($x_{out}$) at which to evaluate the functional representation of the context set (this is the discretization for the decoder). It returns the values of the function at the locations $x_{out}$ for each of the tasks in the batch.\n"
   ]
  },
  {
   "cell_type": "code",
   "execution_count": null,
   "metadata": {
    "colab": {},
    "colab_type": "code",
    "id": "nc5YiX0R8uHf"
   },
   "outputs": [],
   "source": [
    "def compute_dists_1D(x, y):\n",
    "    \"\"\"Fast computation of pair-wise distances for the 1d case.\n",
    "\n",
    "    Args:\n",
    "        x (tensor): Inputs of shape (batch, n, 1).\n",
    "        y (tensor): Inputs of shape (batch, m, 1).\n",
    "\n",
    "    Returns:\n",
    "        tensor: Pair-wise distances of shape (batch, n, m).\n",
    "    \"\"\"\n",
    "    \n",
    "    return (x - y.permute(0, 2, 1)) ** 2\n",
    "\n",
    "\n",
    "def compute_dists(x_context, x_target):\n",
    "        '''\n",
    "        Compute dists for psi for 2D\n",
    "        '''\n",
    "        \n",
    "        t1 = (x_context[:, :, 0:1] - x_target.permute(0, 2, 1)[:, 0:1, :])**2\n",
    "        t2 = (x_context[:, :, 1:2] - x_target.permute(0, 2, 1)[:, 1:2, :])**2\n",
    "        \n",
    "        return (t1 + t2)\n",
    "\n",
    "class ConvDeepSet(nn.Module):\n",
    "    \"\"\"One-dimensional ConvDeepSet module. Uses an RBF kernel for psi(x, x').\n",
    "\n",
    "    Args:\n",
    "        out_channels (int): Number of output channels.\n",
    "        init_length_scale (float): Initial value for the length scale.\n",
    "    \"\"\"\n",
    "\n",
    "    def __init__(self, out_channels, init_length_scale):\n",
    "        super(ConvDeepSet, self).__init__()\n",
    "        self.out_channels = out_channels\n",
    "        self.in_channels = 2\n",
    "        self.g = self.build_weight_model()\n",
    "        self.sigma = nn.Parameter(np.log(init_length_scale) *\n",
    "                                  torch.ones(self.in_channels), requires_grad=True)\n",
    "        self.sigma_fn = torch.exp\n",
    "\n",
    "    def build_weight_model(self):\n",
    "        \"\"\"Returns a function point-wise function that transforms the\n",
    "        (in_channels + 1)-dimensional representation to dimensionality\n",
    "        out_channels.\n",
    "\n",
    "        Returns:\n",
    "            torch.nn.Module: Linear layer applied point-wise to channels.\n",
    "        \"\"\"\n",
    "        model = nn.Sequential(\n",
    "            nn.Linear(self.in_channels, self.out_channels),\n",
    "        )\n",
    "        init_sequential_weights(model)\n",
    "        return model\n",
    "    \n",
    "    def rbf(self, dists):\n",
    "        \"\"\"Compute the RBF values for the distances using the correct length\n",
    "        scales.\n",
    "\n",
    "        Args:\n",
    "            dists (tensor): Pair-wise distances between x and t.\n",
    "\n",
    "        Returns:\n",
    "            tensor: Evaluation of psi(x, t) with psi an RBF kernel.\n",
    "        \"\"\"\n",
    "        # Compute the RBF kernel, broadcasting appropriately.\n",
    "        scales = self.sigma_fn(self.sigma)[None, None, None, :]\n",
    "        a, b, c = dists.shape\n",
    "        return torch.exp(-0.5 * dists.view(a, b, c, -1) / scales ** 2)\n",
    "\n",
    "    def forward(self, x, y, t):\n",
    "        \"\"\"Forward pass through the layer with evaluations at locations t.\n",
    "\n",
    "        Args:\n",
    "            x (tensor): Inputs of observations of shape (n, 1).\n",
    "            y (tensor): Outputs of observations of shape (n, in_channels).\n",
    "            t (tensor): Inputs to evaluate function at of shape (m, 1).\n",
    "\n",
    "        Returns:\n",
    "            tensor: Outputs of evaluated function at z of shape\n",
    "                (m, out_channels).\n",
    "        \"\"\"\n",
    "        # Compute shapes.\n",
    "        batch_size = x.shape[0]\n",
    "        n_in = x.shape[1]\n",
    "        n_out = t.shape[1]\n",
    "        \n",
    "        pdb.set_trace()\n",
    "\n",
    "        # Compute the pairwise distances.\n",
    "        # Shape: (batch, n_in, n_out).\n",
    "        \n",
    "        #pdb.set_trace()\n",
    "        dists = compute_dists(x, t)\n",
    "\n",
    "        # Compute the weights.\n",
    "        # Shape: (batch, n_in, n_out, in_channels).\n",
    "        wt = self.rbf(dists)\n",
    "\n",
    "        # Compute the extra density channel.\n",
    "        # Shape: (batch, n_in, 1).\n",
    "        density = torch.ones(batch_size, n_in, 1).to(device)\n",
    "\n",
    "        # Concatenate the channel.\n",
    "        # Shape: (batch, n_in, in_channels + 1).\n",
    "        y_out = torch.cat([density, y], dim=2)\n",
    "\n",
    "        # Perform the weighting.\n",
    "        # Shape: (batch, n_in, n_out, in_channels + 1).\n",
    "        y_out = y_out.view(batch_size, n_in, -1, self.in_channels) * wt\n",
    "\n",
    "        # Sum over the inputs.\n",
    "        # Shape: (batch, n_out, in_channels + 1).\n",
    "        y_out = y_out.sum(1)\n",
    "\n",
    "        # Use density channel to normalize convolution.\n",
    "        density, conv = y_out[..., :1], y_out[..., 1:]\n",
    "        normalized_conv = conv / (density + 1e-8)\n",
    "        y_out = torch.cat((density, normalized_conv), dim=-1)\n",
    "\n",
    "        # Apply the point-wise function.\n",
    "        # Shape: (batch, n_out, out_channels).\n",
    "        y_out = y_out.view(batch_size * n_out, self.in_channels)\n",
    "        y_out = self.g(y_out)\n",
    "        y_out = y_out.view(batch_size, n_out, self.out_channels)\n",
    "\n",
    "        return y_out"
   ]
  },
  {
   "cell_type": "markdown",
   "metadata": {
    "colab_type": "text",
    "id": "m0EOrgPB8uHk"
   },
   "source": [
    "## Decoder \n",
    "\n",
    "The decoder (denoted $\\rho$ in the paper) is any appropriate convolutional architecture. We provide two example architectures in the [convcnp.architectures](https://github.com/cambridge-mlg/convcnp/blob/master/convcnp/architectures.py) file that are used in the paper, but users should feel free to design and implement any architectures that seem appropriate. For example, in experiments not published, we have found that using depth-wise-separable convolutions can lead to performance gains as well as significant reductions in the number of model parameters. In this example, we will use the UNet architecture employed by ConvCNP XL in the paper, which can be imported from [convcnp.architectures](https://github.com/cambridge-mlg/convcnp/blob/master/convcnp/architectures.py). \n",
    "\n",
    "Finally, for the 1d case, we require an additional layer(s) on top of $\\rho$ to map back to the continuous setting (i.e., evaluate the output at any desired location). For this layer, we will use a layer that is similar to ConvDeepSet, involving another RBF function, $\\psi_{\\rho}$. However, it does not require any use of the density channel. Such a layer is constructed below."
   ]
  },
  {
   "cell_type": "code",
   "execution_count": null,
   "metadata": {
    "colab": {},
    "colab_type": "code",
    "id": "nqPooof-8uHl"
   },
   "outputs": [],
   "source": [
    "class FinalLayer(nn.Module):\n",
    "    \"\"\"One-dimensional Set convolution layer. Uses an RBF kernel for psi(x, x').\n",
    "\n",
    "    Args:\n",
    "        in_channels (int): Number of inputs channels.\n",
    "        init_length_scale (float): Initial value for the length scale.\n",
    "    \"\"\"\n",
    "\n",
    "    def __init__(self, in_channels, init_length_scale):\n",
    "        super(FinalLayer, self).__init__()\n",
    "        self.out_channels = 1\n",
    "        self.in_channels = in_channels\n",
    "        self.g = self.build_weight_model()\n",
    "        self.sigma = nn.Parameter(np.log(init_length_scale) * torch.ones(self.in_channels), requires_grad=True)\n",
    "        self.sigma_fn = torch.exp\n",
    "\n",
    "    def build_weight_model(self):\n",
    "        \"\"\"Returns a function point-wise function that transforms the\n",
    "        (in_channels + 1)-dimensional representation to dimensionality\n",
    "        out_channels.\n",
    "\n",
    "        Returns:\n",
    "            torch.nn.Module: Linear layer applied point-wise to channels.\n",
    "        \"\"\"\n",
    "        model = nn.Sequential(\n",
    "            nn.Linear(self.in_channels, self.out_channels),\n",
    "        )\n",
    "        init_sequential_weights(model)\n",
    "        return model\n",
    "    \n",
    "    def rbf(self, dists):\n",
    "        \"\"\"Compute the RBF values for the distances using the correct length\n",
    "        scales.\n",
    "\n",
    "        Args:\n",
    "            dists (tensor): Pair-wise distances between x and t.\n",
    "\n",
    "        Returns:\n",
    "            tensor: Evaluation of psi(x, t) with psi an RBF kernel.\n",
    "        \"\"\"\n",
    "        # Compute the RBF kernel, broadcasting appropriately.\n",
    "        scales = self.sigma_fn(self.sigma)[None, None, None, :]\n",
    "        a, b, c = dists.shape\n",
    "        return torch.exp(-0.5 * dists.view(a, b, c, -1) / scales ** 2)\n",
    "\n",
    "    def forward(self, x, y, t):\n",
    "        \"\"\"Forward pass through the layer with evaluations at locations t.\n",
    "\n",
    "        Args:\n",
    "            x (tensor): Inputs of observations of shape (n, 1).\n",
    "            y (tensor): Outputs of observations of shape (n, in_channels).\n",
    "            t (tensor): Inputs to evaluate function at of shape (m, 1).\n",
    "\n",
    "        Returns:\n",
    "            tensor: Outputs of evaluated function at z of shape\n",
    "                (m, out_channels).\n",
    "        \"\"\"\n",
    "        # Compute shapes.\n",
    "        batch_size = x.shape[0]\n",
    "        n_in = x.shape[1]\n",
    "        n_out = t.shape[1]\n",
    "\n",
    "        # Compute the pairwise distances.\n",
    "        # Shape: (batch, n_in, n_out).\n",
    "        dists = compute_dists(x, t)\n",
    "\n",
    "        # Compute the weights.\n",
    "        # Shape: (batch, n_in, n_out, in_channels).\n",
    "        wt = self.rbf(dists)\n",
    "\n",
    "        # Perform the weighting.\n",
    "        # Shape: (batch, n_in, n_out, in_channels).\n",
    "        y_out = y.view(batch_size, n_in, -1, self.in_channels) * wt\n",
    "\n",
    "        # Sum over the inputs.\n",
    "        # Shape: (batch, n_out, in_channels).\n",
    "        y_out = y_out.sum(1)\n",
    "\n",
    "        # Apply the point-wise function.\n",
    "        # Shape: (batch, n_out, out_channels).\n",
    "        y_out = y_out.view(batch_size * n_out, self.in_channels)\n",
    "        y_out = self.g(y_out)\n",
    "        y_out = y_out.view(batch_size, n_out, self.out_channels)\n",
    "\n",
    "        return y_out\n"
   ]
  },
  {
   "cell_type": "markdown",
   "metadata": {
    "colab_type": "text",
    "id": "RyiGN41J8uHr"
   },
   "source": [
    "\n",
    "## Complete Model\n",
    "\n",
    "We are now ready to construct the ConvCNP model! Upon initialization, the model takes two arguments: the convolutional architecture to use for $\\rho$, and the number of points (per unit interval) at which to evaluate the functional representation. The model will internally compute the exact discretization based on the context and target sets and this parameter, by spacing points evenly across an interval. The model also performs several other internal computations upon initialization, such as computing the intialization of the length scale for the RBF kernels in $\\psi$ and the output layer function $\\psi_{\\rho}$. \n",
    "\n",
    "In the forward pass, the model takes the context set (again represented as 3-tensors for $x$ and $y$), and the locations for the target set at which it should make predictions ($x_{out}$). It first determines the locations at which to evaluate the functional representation. Then, the encoder computes the functional representation and returns the values at the locations determined by the model. Finally, these locations are passed to $\\rho$, which produces a Gaussian prediction at each of the desired locations in the target set."
   ]
  },
  {
   "cell_type": "code",
   "execution_count": null,
   "metadata": {
    "colab": {},
    "colab_type": "code",
    "id": "w13T-E008uHs"
   },
   "outputs": [],
   "source": [
    "%%capture\n",
    "class ConvCNP(nn.Module):\n",
    "    \"\"\"One-dimensional ConvCNP model.\n",
    "\n",
    "    Args:\n",
    "        learn_length_scale (bool): Learn the length scale.\n",
    "        points_per_unit (int): Number of points per unit interval on input.\n",
    "            Used to discretize function.\n",
    "    \"\"\"\n",
    "\n",
    "    def __init__(self, rho, points_per_unit):\n",
    "        super(ConvCNP, self).__init__()\n",
    "        self.activation = nn.Sigmoid()\n",
    "        self.sigma_fn = nn.Softplus()\n",
    "        self.rho = rho\n",
    "        self.multiplier = 2 ** self.rho.num_halving_layers\n",
    "\n",
    "        # Compute initialisation.\n",
    "        self.points_per_unit = points_per_unit\n",
    "        init_length_scale = 2.0 / self.points_per_unit\n",
    "        \n",
    "        # Instantiate encoder\n",
    "        self.encoder = ConvDeepSet(out_channels=self.rho.in_channels,\n",
    "                                   init_length_scale=init_length_scale)\n",
    "        \n",
    "        # Instantiate mean and standard deviation layers\n",
    "        self.mean_layer = FinalLayer(in_channels=self.rho.out_channels,\n",
    "                                     init_length_scale=init_length_scale)\n",
    "        self.sigma_layer = FinalLayer(in_channels=self.rho.out_channels,\n",
    "                                      init_length_scale=init_length_scale)\n",
    "\n",
    "    def forward(self, x, y, x_out):\n",
    "        \"\"\"Run the model forward.\n",
    "\n",
    "        Args:\n",
    "            x (tensor): Observation locations of shape (batch, data, features).\n",
    "            y (tensor): Observation values of shape (batch, data, outputs).\n",
    "            x_out (tensor): Locations of outputs of shape (batch, data, features).\n",
    "            \n",
    "        Returns:\n",
    "            tuple[tensor]: Means and standard deviations of shape (batch_out, channels_out).\n",
    "        \"\"\"\n",
    "        # Determine the grid on which to evaluate functional representation.\n",
    "        x_min = min(torch.min(x).cpu().numpy(),\n",
    "                    torch.min(x_out).cpu().numpy(), -2.) - 0.1\n",
    "        x_max = max(torch.max(x).cpu().numpy(),\n",
    "                    torch.max(x_out).cpu().numpy(), 2.) + 0.1\n",
    "        num_points = int(to_multiple(self.points_per_unit * (x_max - x_min),\n",
    "                                     self.multiplier))\n",
    "        x_grid = torch.linspace(x_min, x_max, num_points).to(device)\n",
    "        x_grid = x_grid[None, :, None].repeat(x.shape[0], 1, 1)\n",
    "\n",
    "        # Apply first layer and conv net. Take care to put the axis ranging\n",
    "        # over the data last.\n",
    "        h = self.activation(self.encoder(x, y, x_grid))\n",
    "        h = h.permute(0, 2, 1)\n",
    "        h = h.reshape(h.shape[0], h.shape[1], num_points)\n",
    "        h = self.rho(h)\n",
    "        h = h.reshape(h.shape[0], h.shape[1], -1).permute(0, 2, 1)\n",
    "\n",
    "        # Check that shape is still fine!\n",
    "        if h.shape[1] != x_grid.shape[1]:\n",
    "            raise RuntimeError('Shape changed.')\n",
    "\n",
    "        # Produce means and standard deviations.\n",
    "        mean = self.mean_layer(x_grid, h, x_out)\n",
    "        sigma = self.sigma_fn(self.sigma_layer(x_grid, h, x_out))\n",
    "\n",
    "        return mean, sigma\n",
    "\n",
    "    @property\n",
    "    def num_params(self):\n",
    "        \"\"\"Number of parameters in model.\"\"\"\n",
    "        return np.sum([torch.tensor(param.shape).prod()\n",
    "                       for param in self.parameters()])\n",
    "    \n",
    "\n",
    "model = ConvCNP(rho=UNet(), points_per_unit=64)\n",
    "model.to(device)"
   ]
  },
  {
   "cell_type": "markdown",
   "metadata": {
    "colab_type": "text",
    "id": "zrxsiV9C8uHx"
   },
   "source": [
    "## Training Methods\n",
    "\n",
    "With our model in place, let's next define a training procedure. The `train` function below performs one training epoch (as defined by the number of tasks in an epoch from our data generator) as follows:\n",
    "1. Iterate over the tasks in the epoch\n",
    "2. For every task, condition on the context set, and make (Gaussian) predictions at the target locations.\n",
    "3. Compute the log-likelihood of the predictions under the target set.\n",
    "4. Backpropagate the error from the (negative) log-likelihood to the model parameters \n",
    "\n",
    "The `RunningAverage` average object will maintain a running average of the negative log-likelihood. In addition, we provide a plotting function so as to visually monitor the progress of the training procedure."
   ]
  },
  {
   "cell_type": "code",
   "execution_count": null,
   "metadata": {
    "colab": {},
    "colab_type": "code",
    "id": "QAaF-qaL8uHz",
    "scrolled": true
   },
   "outputs": [],
   "source": [
    "import pdb\n",
    "def train(data, model, opt):\n",
    "    \"\"\"Perform a training epoch.\"\"\"\n",
    "    ravg = RunningAverage()\n",
    "    model.train()\n",
    "    for step, task in enumerate(data):\n",
    "        #pdb.set_trace()\n",
    "        y_mean, y_std = model(task['x_context'], task['y_context'], task['x_target'])\n",
    "        obj = -gaussian_logpdf(task['y_target'], y_mean, y_std, 'batched_mean')\n",
    "        obj.backward()\n",
    "        opt.step()\n",
    "        opt.zero_grad()\n",
    "        ravg.update(obj.item() / data.batch_size, data.batch_size)\n",
    "    return ravg.avg\n",
    "\n",
    "\n",
    "# Create a fixed set of outputs to predict at when plotting.\n",
    "#x_test = torch.linspace(-2., 2., 200)[None, :, None].to(device)\n",
    "x_test = torch.linspace(0., 1., 30)[None, :, None].to(device)\n",
    "\n",
    "\n",
    "def plot_model_task(model, task, idx, legend):\n",
    "    num_functions = task['x_context'].shape[0]\n",
    "    \n",
    "    # Make predictions with the model.\n",
    "    model.eval()\n",
    "    with torch.no_grad():\n",
    "        y_mean, y_std = model(task['x_context'], task['y_context'], x_test.repeat(num_functions, 1, 1))\n",
    "    \n",
    "    # Plot the task and the model predictions.\n",
    "    x_context, y_context = to_numpy(task['x_context'][idx]), to_numpy(task['y_context'][idx])\n",
    "    x_target, y_target = to_numpy(task['x_target'][idx]), to_numpy(task['y_target'][idx])\n",
    "    y_mean, y_std = to_numpy(y_mean[idx]), to_numpy(y_std[idx])\n",
    "    \n",
    "    # Plot context and target sets.\n",
    "    plt.scatter(x_context, y_context, label='Context Set', color='black')\n",
    "    plt.scatter(x_target, y_target, label='Target Set', color='red')\n",
    "    \n",
    "    # Plot model predictions.\n",
    "    plt.plot(to_numpy(x_test[0]), y_mean, label='Model Output', color='blue')\n",
    "    plt.fill_between(to_numpy(x_test[0]),\n",
    "                     y_mean + 2 * y_std,\n",
    "                     y_mean - 2 * y_std,\n",
    "                     color='tab:blue', alpha=0.2)\n",
    "    if legend:\n",
    "        plt.legend()\n"
   ]
  },
  {
   "cell_type": "markdown",
   "metadata": {
    "colab_type": "text",
    "id": "aH2roeSh8uH3"
   },
   "source": [
    "\n",
    "## Training loop for the model\n",
    "\n",
    "Now we can write a standard PyTorch optimization loop. First, we instantiate an optimizer (here we use an Adam optimizer). Then, we simply iterate for as many epochs as necessary to train the model. Every so often we will print the training error (since the data are generated on the fly, this is also a reasonable estimator for the held out error), and produce a plot demonstrating the model performance. Note that the next block of code will train the model for 100 epochs. This may take some time, and it is highly recommended to do so with a GPU!"
   ]
  },
  {
   "cell_type": "code",
   "execution_count": 1,
   "metadata": {
    "colab": {},
    "colab_type": "code",
    "id": "Zir1KrWo8uH4"
   },
   "outputs": [
    {
     "ename": "NameError",
     "evalue": "name 'torch' is not defined",
     "output_type": "error",
     "traceback": [
      "\u001b[1;31m---------------------------------------------------------------------------\u001b[0m",
      "\u001b[1;31mNameError\u001b[0m                                 Traceback (most recent call last)",
      "\u001b[1;32m<ipython-input-1-271369785475>\u001b[0m in \u001b[0;36m<module>\u001b[1;34m\u001b[0m\n\u001b[0;32m      5\u001b[0m \u001b[1;33m\u001b[0m\u001b[0m\n\u001b[0;32m      6\u001b[0m \u001b[1;31m# Initialize optimizer\u001b[0m\u001b[1;33m\u001b[0m\u001b[1;33m\u001b[0m\u001b[1;33m\u001b[0m\u001b[0m\n\u001b[1;32m----> 7\u001b[1;33m \u001b[0mopt\u001b[0m \u001b[1;33m=\u001b[0m \u001b[0mtorch\u001b[0m\u001b[1;33m.\u001b[0m\u001b[0moptim\u001b[0m\u001b[1;33m.\u001b[0m\u001b[0mAdam\u001b[0m\u001b[1;33m(\u001b[0m\u001b[0mmodel\u001b[0m\u001b[1;33m.\u001b[0m\u001b[0mparameters\u001b[0m\u001b[1;33m(\u001b[0m\u001b[1;33m)\u001b[0m\u001b[1;33m,\u001b[0m \u001b[0mlr\u001b[0m\u001b[1;33m=\u001b[0m\u001b[0mLEARNING_RATE\u001b[0m\u001b[1;33m)\u001b[0m\u001b[1;33m\u001b[0m\u001b[1;33m\u001b[0m\u001b[0m\n\u001b[0m\u001b[0;32m      8\u001b[0m \u001b[1;33m\u001b[0m\u001b[0m\n\u001b[0;32m      9\u001b[0m \u001b[1;31m# Run the training loop.\u001b[0m\u001b[1;33m\u001b[0m\u001b[1;33m\u001b[0m\u001b[1;33m\u001b[0m\u001b[0m\n",
      "\u001b[1;31mNameError\u001b[0m: name 'torch' is not defined"
     ]
    }
   ],
   "source": [
    "# Some training hyper-parameters:\n",
    "LEARNING_RATE = 1e-3\n",
    "NUM_EPOCHS = 100\n",
    "PLOT_FREQ = 10\n",
    "\n",
    "# Initialize optimizer\n",
    "opt = torch.optim.Adam(model.parameters(), lr=LEARNING_RATE)\n",
    "\n",
    "# Run the training loop.\n",
    "for epoch in range(NUM_EPOCHS):\n",
    "\n",
    "    #print ('MGM Epoch %s: NLL %.3f' % (epoch, train_obj))  \n",
    "    # Compute training objective.\n",
    "    train_obj = train(gen, model, opt)\n",
    "\n",
    "    # Plot model behaviour every now and again.\n",
    "    if epoch % PLOT_FREQ == 0:\n",
    "        print('Epoch %s: NLL %.3f' % (epoch, train_obj))\n",
    "        task = gen.generate_task()\n",
    "        fig = plt.figure(figsize=(24, 5))\n",
    "        for i in range(3):\n",
    "            plt.subplot(1, 3, i + 1)\n",
    "            plot_model_task(model, task, idx=i, legend=i==2)\n",
    "        plt.show()\n",
    "    else:\n",
    "        print('Epoch %s: NLL %.3f' % (epoch, train_obj))"
   ]
  },
  {
   "cell_type": "markdown",
   "metadata": {
    "colab_type": "text",
    "id": "q6e4fb7J8uH9"
   },
   "source": [
    "## Evaluation \n",
    "\n",
    "We can also evaluate the trained model to get better estimates of its performance. To do so, we will first introduce an additional data generator that will generate far more tasks for us. Then, we will loop over many tasks, and compute (and print) the average log-likelihood."
   ]
  },
  {
   "cell_type": "code",
   "execution_count": null,
   "metadata": {
    "colab": {},
    "colab_type": "code",
    "id": "tW8EadNR8uH-"
   },
   "outputs": [],
   "source": [
    "# Instantiate data generator for testing.\n",
    "NUM_TEST_TASKS = 2048\n",
    "gen_test = convcnp.data.GPGenerator(kernel=kernel, num_tasks=NUM_TEST_TASKS)\n",
    "\n",
    "# Compute average task log-likelihood.\n",
    "ravg = RunningAverage()\n",
    "model.eval()\n",
    "with torch.no_grad():\n",
    "    for step, task in enumerate(gen_test):\n",
    "        y_mean, y_std = model(task['x_context'], task['y_context'], task['x_target'])\n",
    "        obj = -gaussian_logpdf(task['y_target'], y_mean, y_std, 'batched_mean')\n",
    "        ravg.update(obj.item() / gen_test.batch_size, gen_test.batch_size)\n",
    "\n",
    "print('Model averages a log likelihood of %.2f on unseen tasks.' % -ravg.avg)"
   ]
  },
  {
   "cell_type": "code",
   "execution_count": null,
   "metadata": {},
   "outputs": [],
   "source": []
  },
  {
   "cell_type": "code",
   "execution_count": null,
   "metadata": {},
   "outputs": [],
   "source": []
  }
 ],
 "metadata": {
  "accelerator": "GPU",
  "colab": {
   "collapsed_sections": [],
   "machine_shape": "hm",
   "name": "convcnp_regression_colab.ipynb",
   "provenance": []
  },
  "kernelspec": {
   "display_name": "Python 3",
   "language": "python",
   "name": "python3"
  },
  "language_info": {
   "codemirror_mode": {
    "name": "ipython",
    "version": 3
   },
   "file_extension": ".py",
   "mimetype": "text/x-python",
   "name": "python",
   "nbconvert_exporter": "python",
   "pygments_lexer": "ipython3",
   "version": "3.8.2"
  },
  "pycharm": {
   "stem_cell": {
    "cell_type": "raw",
    "metadata": {
     "collapsed": false
    },
    "source": []
   }
  }
 },
 "nbformat": 4,
 "nbformat_minor": 1
}
